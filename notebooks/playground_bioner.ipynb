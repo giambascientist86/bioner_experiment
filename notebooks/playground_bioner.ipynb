{
 "cells": [
  {
   "cell_type": "code",
   "execution_count": 1,
   "metadata": {},
   "outputs": [
    {
     "name": "stdout",
     "output_type": "stream",
     "text": [
      "['/', '15939911.ann', '17803823.ann', '18258107.ann', '18416479.ann', '18666334.ann', '18666334.txt', '18787726.ann', '18815636.ann', '18815636.txt', '19214295.ann', '19307547.ann', '19816630.txt', '19860006.txt', '20671919.txt', '20977862.ann', '21067996.ann', '21129213.txt', '21254744.ann', '21254744.txt', '21308977.ann', '21477357.ann', '21527041.txt', '21720478.ann', '21923918.ann', '22218279.ann', '22514576.txt', '22520024.ann', '22665582.ann', '22719160.ann', '22791498.ann', '22814979.ann', '23035161.ann', '23076693.ann', '23076693.txt', '23077697.ann', '23124805.ann', '23124805.txt', '23155491.ann', '23155491.txt', '23312850.ann', '23468586.ann', '23864579.ann', '24043987.ann', '24161539.ann', '24161539.txt', '24518095.ann', '24526194.ann', '24898994.ann', '24898994.txt', '25023062.ann', '16778410.ann', '18236639.ann', '18561524.ann', '19009665.ann', '19610147.ann', '19816630.ann', '19860006.ann', '19860007.ann', '19860925.ann', '20146086.ann', '20671919.ann', '21067996.txt', '21129213.ann', '21505579.ann', '21527041.ann', '22514576.ann', '22515939.ann', '23897372.ann', '25024632.ann', '25155594.ann', '25210224.ann', '25293719.ann', '25295501.ann', '25410034.ann', '25410883.ann', '25572898.ann', '25661749.ann', '25721834.ann', '25743872.ann', '25793030.ann', '25853982.ann', '25858931.ann', '25884600.ann', '25926582.ann', '25934795.ann', '26106249.ann', '26216058.ann', '26266396.ann', '26309459.ann', '26313770.ann', '26327988.ann', '26350418.ann', '26395443.ann', '26405496.ann', '26444414.ann', '26445413.ann', '25926582.txt', '26228535.ann', '26264228.ann', '26361431.ann', '26361640.ann', '26457578.ann', '26469535.ann', '26474553.ann', '26523273.ann', '26530965.ann', '26584481.ann', '26629302.ann', '26656340.ann', '26664317.ann', '26670309.ann', '26675562.ann', '26692730.ann', '26714786.ann', '27004009.ann', '27057898.ann', '27130218.ann', '27196481.ann', '27218632.ann', '27683825.ann', '27749582.ann', '27773410.ann', '27793101.ann', '27904130.ann', '27906105.ann', '27928148.ann', '27980261.ann', '27990013.ann', '27998312.ann', '28057913.ann', '28079821.ann', '28090049.ann', '28100235.ann', '28100279.ann', '28103924.ann', '28115731.ann', '28120581.ann', '28121940.ann', '28151860.ann', '28151882.ann', '28151916.ann', '28173879.ann', '28193213.ann', '28196820.ann', '28202862.ann', '28202869.ann', '28216610.ann', '28239141.ann', '28248858.ann', '28250406.ann', '28265107.ann', '28272214.ann', '28292056.ann', '28320420.ann', '28321070.ann', '28321071.ann', '28321073.ann', '28353558.ann', '28353561.ann', '28353588.ann', '28353596.ann', '28353613.ann', '28403086.ann', '19860925.txt', '21672201.ann', '22781096.ann', '23033875.ann', '23077697.txt', '23678274.ann', '24654246.ann', '24781756.ann', '25024632.txt', '25295501.txt', '25370695.ann', '25410883.txt', '25759562.ann', '26257516.ann', '26266396.txt', '26336183.ann', '26444414.txt', '26474553.txt', '26683938.ann', '27057898.txt', '27059701.ann', '27064109.ann', '27661040.ann', '27821134.ann', '27842595.ann', '27842605.ann', '27846860.ann', '27974938.ann', '28033278.ann', '28121940.txt', '28154281.ann', '28154669.ann', '28154669.txt', '28154700.ann', '28190872.ann', '28202865.ann', '28207542.ann', '28248891.ann', '28250304.ann', '28265107.txt', '28272235.ann', '28292056.txt', '28296749.ann', '28296775.ann', '28353556.ann', '28353569.ann', '28353604.ann', '28403099.ann', '28422883.ann', '28538413.ann', '28559815.ann', '28595573.ann', '28767567.ann', '15939911.txt', '16778410.txt', '18236639.txt', '18787726.txt', '19009665.txt', '21477357.txt', '21505579.txt', '22218279.txt', '22515939.txt', '22665582.txt', '22791498.txt', '23242090.ann', '23468586.txt', '24294397.ann', '24294397.txt', '24518095.txt', '24526194.txt', '24654246.txt', '24957905.ann', '25139918.ann', '25155594.txt', '25246819.ann', '25410034.txt', '25743872.txt', '25793030.txt', '25853982.txt', '26175648.ann', '26216058.txt', '26264228.txt', '26285706.ann', '26309459.txt', '26327988.txt', '26361640.txt', '26445413.txt', '26457578.txt', '26469535.txt', '26530965.txt', '26629302.txt', '26656340.txt', '26675562.txt', '26692730.txt', '27059701.txt', '27100441.ann', '27196481.txt', '27218632.txt', '27683825.txt', '27741115.ann', '27906105.txt', '27980261.txt', '27980272.ann', '27998312.txt', '28079821.txt', '28151860.txt', '28151916.txt', '28154287.ann', '28154700.txt', '28202862.txt', '28239141.txt', '28248858.txt', '28296749.txt', '28321071.txt', '28353561.txt', '28353613.txt', '28383413.ann', '28403092.ann', '28559815.txt', '28767567.txt', '17803823.txt', '18258107.txt', '18416479.txt', '19214295.txt', '19307547.txt', '19610147.txt', '19860007.txt', '20977862.txt', '21308977.txt', '22520024.txt', '22719160.txt', '22781096.txt', '23033875.txt', '23312850.txt', '23897372.txt', '24043987.txt', '24781756.txt', '25023062.txt', '25246819.txt', '25293719.txt', '25572898.txt', '25858931.txt', '25884600.txt', '26106249.txt', '26257516.txt', '26285706.txt', '26350418.txt', '26361431.txt', '26395443.txt', '26405496.txt', '26584481.txt', '26664317.txt', '26683938.txt', '27004009.txt', '27130218.txt', '27749582.txt', '27773410.txt', '27842595.txt', '27990013.txt', '28057913.txt', '28100279.txt', '28120581.txt', '28173879.txt', '28193213.txt', '28216610.txt', '28250406.txt', '28296775.txt', '28321070.txt', '28353558.txt', '28353569.txt', '28353596.txt', '28403086.txt', '28422883.txt', '18561524.txt', '20146086.txt', '21672201.txt', '21923918.txt', '22814979.txt', '23035161.txt', '23242090.txt', '23678274.txt', '24957905.txt', '25210224.txt', '25370695.txt', '25661749.txt', '25721834.txt', '25759562.txt', '25934795.txt', '26228535.txt', '26313770.txt', '26336183.txt', '26523273.txt', '26714786.txt', '27064109.txt', '27100441.txt', '27661040.txt', '27741115.txt', '27821134.txt', '27842605.txt', '27846860.txt', '27904130.txt', '27928148.txt', '27974938.txt', '28033278.txt', '28100235.txt', '28115731.txt', '28151882.txt', '28154287.txt', '28196820.txt', '28202869.txt', '28207542.txt', '28248891.txt', '28250304.txt', '28272214.txt', '28272235.txt', '28320420.txt', '28321073.txt', '28353556.txt', '28353588.txt', '28403099.txt', '28538413.txt', '28595573.txt', '21720478.txt', '23864579.txt', '25139918.txt', '26175648.txt', '26670309.txt', '27793101.txt', '27980272.txt', '28090049.txt', '28103924.txt', '28154281.txt', '28190872.txt', '28202865.txt', '28353604.txt', '28383413.txt', '28403092.txt']\n"
     ]
    }
   ],
   "source": [
    "import zipfile\n",
    "\n",
    "zip_path = r\"C:\\Users\\batti\\bioner\\data\\MACCROBAT2020_Simplified.zip\"\n",
    "\n",
    "with zipfile.ZipFile(zip_path, 'r') as zip_ref:\n",
    "    file_list = zip_ref.namelist()\n",
    "    print(file_list)  # Lista dei file contenuti nello ZIP\n"
   ]
  },
  {
   "cell_type": "code",
   "execution_count": 2,
   "metadata": {},
   "outputs": [],
   "source": [
    "def _extract_zip(self) -> None:\n",
    "    \"\"\"Extract the dataset zip file while handling empty filenames.\"\"\"\n",
    "    try:\n",
    "        with zipfile.ZipFile(self.zip_path, 'r') as zip_ref:\n",
    "            for file_info in zip_ref.infolist():\n",
    "                if file_info.filename.strip():  # Evita file con nomi vuoti\n",
    "                    zip_ref.extract(file_info, self.extract_path)\n",
    "            print(f\"Dataset extracted to {self.extract_path}\")\n",
    "    except zipfile.BadZipFile:\n",
    "        raise ValueError(\"Invalid ZIP file. Please check the dataset.\")\n"
   ]
  },
  {
   "cell_type": "code",
   "execution_count": null,
   "metadata": {},
   "outputs": [],
   "source": [
    "import matplotlib.pyplot as plt\n",
    "import seaborn as sns\n",
    "from collections import Counter\n",
    "import pandas as pd\n",
    "from src import dataset\n",
    "\n",
    "# Caricare i dati dal dataset\n",
    "dataset = MACCROBATDataset(zip_path=r\"C:\\Users\\batti\\bioner\\data\\MACCROBAT2020_Simplified.zip\")\n",
    "data = dataset.load_data()\n",
    "\n",
    "# Visualizzare un esempio casuale\n",
    "sample = data[0]\n",
    "print(f\"**Esempio di Testo (file: {sample['filename']})**\\n\")\n",
    "print(sample[\"text\"][:500])  # Mostriamo i primi 500 caratteri\n",
    "print(\"\\n**Annotazioni:**\")\n",
    "for ann in sample[\"annotations\"]:\n",
    "    print(ann)\n",
    "\n",
    "# Creare un dataframe per l'EDA\n",
    "df = pd.DataFrame(data)\n",
    "\n",
    "# Contare le occorrenze delle entità\n",
    "entity_counts = Counter([ann[\"type\"] for entry in df[\"annotations\"] for ann in entry])\n",
    "\n",
    "# Visualizzare la distribuzione delle entità\n",
    "plt.figure(figsize=(8, 5))\n",
    "sns.barplot(x=list(entity_counts.keys()), y=list(entity_counts.values()))\n",
    "plt.title(\"Distribuzione delle Entità Annotate\")\n",
    "plt.ylabel(\"Frequenza\")\n",
    "plt.xlabel(\"Tipo di Entità\")\n",
    "plt.show()\n"
   ]
  }
 ],
 "metadata": {
  "kernelspec": {
   "display_name": "venv",
   "language": "python",
   "name": "python3"
  },
  "language_info": {
   "codemirror_mode": {
    "name": "ipython",
    "version": 3
   },
   "file_extension": ".py",
   "mimetype": "text/x-python",
   "name": "python",
   "nbconvert_exporter": "python",
   "pygments_lexer": "ipython3",
   "version": "3.12.1"
  }
 },
 "nbformat": 4,
 "nbformat_minor": 2
}
